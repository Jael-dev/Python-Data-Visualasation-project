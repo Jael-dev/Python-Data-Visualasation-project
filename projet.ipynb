{
 "cells": [
  {
   "cell_type": "code",
   "execution_count": 21,
   "metadata": {},
   "outputs": [
    {
     "name": "stdout",
     "output_type": "stream",
     "text": [
      "The autoreload extension is already loaded. To reload it, use:\n",
      "  %reload_ext autoreload\n"
     ]
    }
   ],
   "source": [
    "%load_ext autoreload\n",
    "%autoreload"
   ]
  },
  {
   "cell_type": "code",
   "execution_count": 22,
   "metadata": {},
   "outputs": [],
   "source": [
    "# Imports\n",
    "import modules.imports as imports"
   ]
  },
  {
   "cell_type": "markdown",
   "metadata": {},
   "source": [
    "# I. IMPORT DES DONNEES"
   ]
  },
  {
   "cell_type": "markdown",
   "metadata": {},
   "source": [
    "## Team dataframe"
   ]
  },
  {
   "cell_type": "code",
   "execution_count": 23,
   "metadata": {},
   "outputs": [],
   "source": [
    "teamdf = imports.create_teams_df()\n",
    "teamdf\n",
    "teamdf.to_json('teamdf.json', orient='records')"
   ]
  },
  {
   "cell_type": "markdown",
   "metadata": {},
   "source": [
    "## Player dataframe"
   ]
  },
  {
   "cell_type": "code",
   "execution_count": 24,
   "metadata": {},
   "outputs": [],
   "source": [
    "playerdf = imports.create_players_df()\n",
    "playerdf\n",
    "playerdf.to_json('playerdf.json', orient='records')"
   ]
  },
  {
   "cell_type": "markdown",
   "metadata": {},
   "source": [
    "## Match dataframe"
   ]
  },
  {
   "cell_type": "code",
   "execution_count": 25,
   "metadata": {},
   "outputs": [],
   "source": [
    "matchdf = imports.create_matches_df()\n",
    "matchdf\n",
    "matchdf.to_json('matchdf.json', orient='records')"
   ]
  },
  {
   "cell_type": "markdown",
   "metadata": {},
   "source": [
    "## Highlight dataframe"
   ]
  },
  {
   "cell_type": "code",
   "execution_count": 26,
   "metadata": {},
   "outputs": [],
   "source": [
    "highlightsdf = imports.create_highlight_df()\n",
    "highlightsdf\n",
    "highlightsdf.to_json('highlightsdf.json', orient='records')"
   ]
  },
  {
   "cell_type": "markdown",
   "metadata": {},
   "source": [
    "## Substitution dataframe"
   ]
  },
  {
   "cell_type": "code",
   "execution_count": 33,
   "metadata": {},
   "outputs": [],
   "source": [
    "substitutiondf = imports.create_substitutions_df()\n",
    "substitutiondf\n",
    "substitutiondf.to_json('substitutiondf.json', orient='records')"
   ]
  },
  {
   "cell_type": "markdown",
   "metadata": {},
   "source": [
    "## Match Players dataframe\n"
   ]
  },
  {
   "cell_type": "code",
   "execution_count": 28,
   "metadata": {},
   "outputs": [],
   "source": [
    "matchdf_players = imports.create_match_players_df()\n",
    "matchdf_players\n",
    "matchdf_players.to_json('match_playersdf.json', orient='records')"
   ]
  },
  {
   "cell_type": "markdown",
   "metadata": {},
   "source": [
    "# II. HISTORIQUE DES TRANSFERS "
   ]
  },
  {
   "cell_type": "code",
   "execution_count": 29,
   "metadata": {},
   "outputs": [],
   "source": [
    "histoiquedf = imports.create_historique_transferts_df()\n",
    "histoiquedf\n",
    "histoiquedf.to_json('historiquedf.json', orient='records')"
   ]
  },
  {
   "cell_type": "markdown",
   "metadata": {},
   "source": [
    "# III. REQUETES "
   ]
  },
  {
   "cell_type": "markdown",
   "metadata": {},
   "source": [
    "## A. Clubs "
   ]
  },
  {
   "cell_type": "code",
   "execution_count": 30,
   "metadata": {},
   "outputs": [
    {
     "name": "stdout",
     "output_type": "stream",
     "text": [
      "     idteam         name\n",
      "0        14    Liverpool\n",
      "1        45      Norwich\n",
      "2        91  Bournemouth\n",
      "3        49    Sheffield\n",
      "4        90      Burnley\n",
      "...     ...          ...\n",
      "5680   1737        Cadix\n",
      "5691   2894       Huesca\n",
      "6428   2000    Benevento\n",
      "6433    744      Crotone\n",
      "6445   2036       Spezia\n",
      "\n",
      "[111 rows x 2 columns]\n",
      "    idteam       name\n",
      "15      43  Man. City\n",
      "111\n"
     ]
    }
   ],
   "source": [
    "# • Afficher la liste de tous les clubs (idteam et nom du club) / Display the list of all teams in the dataframe\n",
    "print(teamdf)\n",
    "\n",
    "# • Convert 'idteam' column to integers\n",
    "teamdf['idteam'] = teamdf['idteam'].astype(int)\n",
    "\n",
    "# • Quel est le nom du club dont l'id est 43 ? / Display the club with where id = 43\n",
    "print(teamdf[teamdf['idteam'] ==43])\n",
    "\n",
    "# • Quel est le nombre total de clubs ? / Display the length of the team dataframe\n",
    "print(len(teamdf))"
   ]
  },
  {
   "cell_type": "markdown",
   "metadata": {},
   "source": [
    "## B. Joueurs"
   ]
  },
  {
   "cell_type": "code",
   "execution_count": 31,
   "metadata": {},
   "outputs": [
    {
     "name": "stdout",
     "output_type": "stream",
     "text": [
      "       idplayer   lastname\n",
      "0         15157     Milner\n",
      "1         41733  Wijnaldum\n",
      "2         56979  Henderson\n",
      "3         60706     Adrián\n",
      "4         60914      Matip\n",
      "...         ...        ...\n",
      "142256   173131   Haraslín\n",
      "142280   518924    Bertini\n",
      "142389   539223    Bertola\n",
      "142390   539226     Pietra\n",
      "142453   538794      Basha\n",
      "\n",
      "[4503 rows x 2 columns]\n",
      "4503\n"
     ]
    }
   ],
   "source": [
    "# • Afficher la liste des joueurs / List of all players\n",
    "print(playerdf)\n",
    "\n",
    "# • Quel est le nombre total de joueurs ? / Display the length of the player dataframe\n",
    "print(len(playerdf))"
   ]
  },
  {
   "cell_type": "markdown",
   "metadata": {},
   "source": [
    "## C. Matchs"
   ]
  },
  {
   "cell_type": "code",
   "execution_count": 32,
   "metadata": {},
   "outputs": [
    {
     "name": "stdout",
     "output_type": "stream",
     "text": [
      "            matchid        hometeam       awayteam                  date  \\\n",
      "0     match_1059702       Liverpool        Norwich  2019-08-09T19:00:00Z   \n",
      "1     match_1059703     Bournemouth      Sheffield  2019-08-10T14:00:00Z   \n",
      "2     match_1059704         Burnley    Southampton  2019-08-10T14:00:00Z   \n",
      "3     match_1059705  Crystal Palace        Everton  2019-08-10T14:00:00Z   \n",
      "4     match_1059706       Leicester  Wolverhampton  2019-08-11T13:00:00Z   \n",
      "...             ...             ...            ...                   ...   \n",
      "3589  match_2137737        Atalanta          Milan  2021-05-23T18:45:00Z   \n",
      "3590  match_2137738       Sampdoria          Parma  2021-05-22T18:45:00Z   \n",
      "3591  match_2137739          Spezia           Roma  2021-05-23T18:45:00Z   \n",
      "3592  match_2137740           Inter        Udinese  2021-05-23T13:00:00Z   \n",
      "3593  match_2137741          Napoli         Verona  2021-05-23T18:45:00Z   \n",
      "\n",
      "      duration    period  chamionship  quotation_away  quotation_home  \\\n",
      "0           93  FullTime          2.0           18.00            1.12   \n",
      "1           95  FullTime          2.0            3.90            1.95   \n",
      "2           94  FullTime          2.0            2.75            2.65   \n",
      "3           95  FullTime          2.0            2.35            3.20   \n",
      "4           95  FullTime          2.0            3.50            2.15   \n",
      "...        ...       ...          ...             ...             ...   \n",
      "3589        95  FullTime          5.0            2.60            2.35   \n",
      "3590        90  FullTime          5.0            3.70            1.55   \n",
      "3591        95  FullTime          5.0            1.58            4.65   \n",
      "3592        90  FullTime          5.0            5.00            1.38   \n",
      "3593        95  FullTime          5.0            7.50            1.20   \n",
      "\n",
      "      quotation_draw home_formation away_formation  home_score  away_score  \n",
      "0               9.00            433           4231           4           1  \n",
      "1               3.55           3421            352           1           1  \n",
      "2               3.15            442           3421           4           0  \n",
      "3               3.20            442           4231           0           0  \n",
      "4               3.25           4141            352           0           1  \n",
      "...              ...            ...            ...         ...         ...  \n",
      "3589            3.98           3421           4231           0           2  \n",
      "3590            3.80            532            352           3           0  \n",
      "3591            4.65            433           4231           2           2  \n",
      "3592            3.90            352           3511           5           1  \n",
      "3593            4.75           4231           3421           1           1  \n",
      "\n",
      "[3594 rows x 14 columns]\n",
      "10      match_1059712\n",
      "30      match_1059732\n",
      "50      match_1059752\n",
      "70      match_1059772\n",
      "90      match_1059792\n",
      "101     match_1059803\n",
      "121     match_1059823\n",
      "140     match_1059842\n",
      "160     match_1059862\n",
      "190     match_1059892\n",
      "200     match_1059902\n",
      "220     match_1059922\n",
      "250     match_1059952\n",
      "260     match_1059962\n",
      "280     match_1059982\n",
      "311     match_1060013\n",
      "331     match_1060033\n",
      "350     match_1060052\n",
      "370     match_1060072\n",
      "2468    match_2128296\n",
      "2488    match_2128316\n",
      "2508    match_2128336\n",
      "2528    match_2128356\n",
      "2548    match_2128376\n",
      "2568    match_2128396\n",
      "2578    match_2128406\n",
      "2598    match_2128426\n",
      "2628    match_2128456\n",
      "2638    match_2128466\n",
      "2658    match_2128486\n",
      "2688    match_2128516\n",
      "2698    match_2128526\n",
      "2728    match_2128556\n",
      "2748    match_2128576\n",
      "2768    match_2128596\n",
      "2778    match_2128606\n",
      "2796    match_2128626\n",
      "2826    match_2128656\n",
      "Name: matchid, dtype: object\n",
      "           matchid     hometeam       awayteam                      date  \\\n",
      "4    match_1059706    Leicester  Wolverhampton 2019-08-11 13:00:00+00:00   \n",
      "8    match_1059710  Man. United        Chelsea 2019-08-11 15:30:00+00:00   \n",
      "9    match_1059711    Newcastle        Arsenal 2019-08-11 13:00:00+00:00   \n",
      "383  match_1060532   Strasbourg           Metz 2019-08-11 15:00:00+00:00   \n",
      "386  match_1060535        Lille         Nantes 2019-08-11 13:00:00+00:00   \n",
      "387  match_1060536        Paris          Nîmes 2019-08-11 19:00:00+00:00   \n",
      "\n",
      "     duration    period  chamionship  quotation_away  quotation_home  \\\n",
      "4          95  FullTime          2.0             3.5            2.15   \n",
      "8          95  FullTime          2.0             3.6            2.20   \n",
      "9          95  FullTime          2.0             1.9            4.10   \n",
      "383        96  FullTime          1.0             4.0            2.10   \n",
      "386        95  FullTime          1.0             4.4            2.00   \n",
      "387        93  FullTime          1.0            32.0            1.09   \n",
      "\n",
      "     quotation_draw home_formation away_formation  home_score  away_score  \n",
      "4              3.25           4141            352           0           1  \n",
      "8              3.30           4231           4231           5           0  \n",
      "9              3.70            352           4231           0           1  \n",
      "383            3.25           3511            433           1           1  \n",
      "386            3.25           4231            433           2           1  \n",
      "387           12.50            433            433           3           0  \n",
      "925\n",
      "76\n"
     ]
    }
   ],
   "source": [
    "# • Afficher la liste des matchs joués / List of all matches\n",
    "print(matchdf)\n",
    "\n",
    "# • Afficher tous les id des matchs où le club à domicile est Arsenal / Display all match ids where the home team is Arsenal\n",
    "matchdf['hometeam'] = matchdf['hometeam'].astype(str)\n",
    "arsenal_home_matches = matchdf[matchdf['hometeam'] == 'Arsenal']['matchid']\n",
    "print(arsenal_home_matches)\n",
    "\n",
    "# • Afficher les information du/des match(s) qui se sont déroulés le 11-08-2019. / Display the information of the match(es) that took place on 11-08-2019. \n",
    "matchdf['date'] = imports.pd.to_datetime(matchdf['date'])\n",
    "print(matchdf[matchdf['date'].dt.date == imports.pd.to_datetime('2019-08-11').date()])\n",
    "\n",
    "# • Combien de matchs ont eu lieu en 2019 ? / How many matches took place in 2019?\n",
    "print(len(matchdf[matchdf['date'].dt.year == 2019]))\n",
    "\n",
    "# • Combien de matchs a joué le club Liverpool ? / How many matches did Liverpool play?\n",
    "print(len(matchdf[(matchdf['hometeam'] == 'Liverpool') | (matchdf['awayteam'] == 'Liverpool')]))\n"
   ]
  },
  {
   "cell_type": "markdown",
   "metadata": {},
   "source": [
    "# IV. ANALYSE ET VISUALISATION GRAPHIQUE "
   ]
  }
 ],
 "metadata": {
  "kernelspec": {
   "display_name": "Python 3",
   "language": "python",
   "name": "python3"
  },
  "language_info": {
   "codemirror_mode": {
    "name": "ipython",
    "version": 3
   },
   "file_extension": ".py",
   "mimetype": "text/x-python",
   "name": "python",
   "nbconvert_exporter": "python",
   "pygments_lexer": "ipython3",
   "version": "3.12.2"
  }
 },
 "nbformat": 4,
 "nbformat_minor": 2
}
